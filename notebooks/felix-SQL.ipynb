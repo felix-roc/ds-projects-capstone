{
 "cells": [
  {
   "cell_type": "markdown",
   "metadata": {},
   "source": [
    "# HDD Predictive Maintenance - Felix - SQL Getting the Data\n",
    "\n",
    "In this notebook we treat the prediction of HDD breakdown as a classification problem. We think about what data to use and pull it from the SQL server.\n",
    "\n",
    "Since we have a hugely imbalanced dataset, we check what are the most frequent models in the dataset in our time period. Then we will focus on one model first and pick drive snapshots in the 30 days before they fail. Additionally, we pick several drive snapshots further before failing."
   ]
  },
  {
   "cell_type": "markdown",
   "metadata": {},
   "source": [
    "## Setup workspace and connect to SQL"
   ]
  },
  {
   "cell_type": "code",
   "execution_count": 1,
   "metadata": {},
   "outputs": [],
   "source": [
    "import os\n",
    "from dotenv import load_dotenv\n",
    "from sqlalchemy import create_engine\n",
    "import pandas as pd\n",
    "import numpy as np\n",
    "\n",
    "from tqdm import tqdm\n",
    "\n",
    "RSEED = 42"
   ]
  },
  {
   "cell_type": "markdown",
   "metadata": {},
   "source": [
    "Make sure to store the connection details in a `.env` file."
   ]
  },
  {
   "cell_type": "code",
   "execution_count": 2,
   "metadata": {},
   "outputs": [],
   "source": [
    "# Load env file with connection details\n",
    "load_dotenv(\"../../.env\")\n",
    "DB_STRING = os.getenv('DB_STRING')\n",
    "# Create engine to use with pandas\n",
    "db = create_engine(DB_STRING)"
   ]
  },
  {
   "cell_type": "markdown",
   "metadata": {},
   "source": [
    "## Model selection\n",
    "\n",
    "First, we query the failures by model."
   ]
  },
  {
   "cell_type": "code",
   "execution_count": 264,
   "metadata": {},
   "outputs": [
    {
     "data": {
      "text/html": [
       "<div>\n",
       "<style scoped>\n",
       "    .dataframe tbody tr th:only-of-type {\n",
       "        vertical-align: middle;\n",
       "    }\n",
       "\n",
       "    .dataframe tbody tr th {\n",
       "        vertical-align: top;\n",
       "    }\n",
       "\n",
       "    .dataframe thead th {\n",
       "        text-align: right;\n",
       "    }\n",
       "</style>\n",
       "<table border=\"1\" class=\"dataframe\">\n",
       "  <thead>\n",
       "    <tr style=\"text-align: right;\">\n",
       "      <th></th>\n",
       "      <th>model</th>\n",
       "      <th>count</th>\n",
       "      <th>failure</th>\n",
       "    </tr>\n",
       "  </thead>\n",
       "  <tbody>\n",
       "    <tr>\n",
       "      <th>0</th>\n",
       "      <td>ST4000DM000</td>\n",
       "      <td>610</td>\n",
       "      <td>1</td>\n",
       "    </tr>\n",
       "    <tr>\n",
       "      <th>1</th>\n",
       "      <td>ST12000NM0007</td>\n",
       "      <td>494</td>\n",
       "      <td>1</td>\n",
       "    </tr>\n",
       "    <tr>\n",
       "      <th>2</th>\n",
       "      <td>ST8000NM0055</td>\n",
       "      <td>392</td>\n",
       "      <td>1</td>\n",
       "    </tr>\n",
       "    <tr>\n",
       "      <th>3</th>\n",
       "      <td>ST12000NM0008</td>\n",
       "      <td>366</td>\n",
       "      <td>1</td>\n",
       "    </tr>\n",
       "    <tr>\n",
       "      <th>4</th>\n",
       "      <td>TOSHIBA MG07ACA14TA</td>\n",
       "      <td>347</td>\n",
       "      <td>1</td>\n",
       "    </tr>\n",
       "  </tbody>\n",
       "</table>\n",
       "</div>"
      ],
      "text/plain": [
       "                 model  count  failure\n",
       "0          ST4000DM000    610        1\n",
       "1        ST12000NM0007    494        1\n",
       "2         ST8000NM0055    392        1\n",
       "3        ST12000NM0008    366        1\n",
       "4  TOSHIBA MG07ACA14TA    347        1"
      ]
     },
     "execution_count": 264,
     "metadata": {},
     "output_type": "execute_result"
    }
   ],
   "source": [
    "query_string = \"\"\"SELECT model, COUNT(model), failure FROM \"2021\"\n",
    "                GROUP BY model, failure\n",
    "                HAVING failure = '1'\n",
    "                ORDER BY count DESC\"\"\"\n",
    "count_failed_by_model = pd.read_sql(query_string, db)\n",
    "#count_failed_by_model = pd.read_csv(\"../data/interim/count_failed_by_model.csv\")\n",
    "count_failed_by_model.head(5)"
   ]
  },
  {
   "cell_type": "markdown",
   "metadata": {},
   "source": [
    "We focus on the model with the most recent failures in order to obtain the most data. In our case that's the Seagate ST4000DM000."
   ]
  },
  {
   "cell_type": "markdown",
   "metadata": {},
   "source": [
    "## Querying true observations\n",
    "\n",
    "We pick the drive snapshots of the 250 most recent failures of our model on the day they failed (reported `failure == 1`). This dataframe is an index of the drives that we use in the following."
   ]
  },
  {
   "cell_type": "code",
   "execution_count": 49,
   "metadata": {},
   "outputs": [
    {
     "data": {
      "text/html": [
       "<div>\n",
       "<style scoped>\n",
       "    .dataframe tbody tr th:only-of-type {\n",
       "        vertical-align: middle;\n",
       "    }\n",
       "\n",
       "    .dataframe tbody tr th {\n",
       "        vertical-align: top;\n",
       "    }\n",
       "\n",
       "    .dataframe thead th {\n",
       "        text-align: right;\n",
       "    }\n",
       "</style>\n",
       "<table border=\"1\" class=\"dataframe\">\n",
       "  <thead>\n",
       "    <tr style=\"text-align: right;\">\n",
       "      <th></th>\n",
       "      <th>date</th>\n",
       "      <th>serial_number</th>\n",
       "      <th>model</th>\n",
       "      <th>capacity_bytes</th>\n",
       "      <th>failure</th>\n",
       "      <th>smart_1_normalized</th>\n",
       "      <th>smart_1_raw</th>\n",
       "      <th>smart_2_normalized</th>\n",
       "      <th>smart_2_raw</th>\n",
       "      <th>smart_3_normalized</th>\n",
       "      <th>...</th>\n",
       "      <th>smart_250_normalized</th>\n",
       "      <th>smart_250_raw</th>\n",
       "      <th>smart_251_normalized</th>\n",
       "      <th>smart_251_raw</th>\n",
       "      <th>smart_252_normalized</th>\n",
       "      <th>smart_252_raw</th>\n",
       "      <th>smart_254_normalized</th>\n",
       "      <th>smart_254_raw</th>\n",
       "      <th>smart_255_normalized</th>\n",
       "      <th>smart_255_raw</th>\n",
       "    </tr>\n",
       "  </thead>\n",
       "  <tbody>\n",
       "    <tr>\n",
       "      <th>0</th>\n",
       "      <td>2021-12-31</td>\n",
       "      <td>Z304GSQ0</td>\n",
       "      <td>ST4000DM000</td>\n",
       "      <td>4000787030016</td>\n",
       "      <td>1</td>\n",
       "      <td>104</td>\n",
       "      <td>12689626</td>\n",
       "      <td>None</td>\n",
       "      <td>None</td>\n",
       "      <td>91</td>\n",
       "      <td>...</td>\n",
       "      <td>None</td>\n",
       "      <td>None</td>\n",
       "      <td>None</td>\n",
       "      <td>None</td>\n",
       "      <td>None</td>\n",
       "      <td>None</td>\n",
       "      <td>None</td>\n",
       "      <td>None</td>\n",
       "      <td>None</td>\n",
       "      <td>None</td>\n",
       "    </tr>\n",
       "    <tr>\n",
       "      <th>1</th>\n",
       "      <td>2021-12-30</td>\n",
       "      <td>Z305AQQP</td>\n",
       "      <td>ST4000DM000</td>\n",
       "      <td>4000787030016</td>\n",
       "      <td>1</td>\n",
       "      <td>117</td>\n",
       "      <td>144131312</td>\n",
       "      <td>None</td>\n",
       "      <td>None</td>\n",
       "      <td>91</td>\n",
       "      <td>...</td>\n",
       "      <td>None</td>\n",
       "      <td>None</td>\n",
       "      <td>None</td>\n",
       "      <td>None</td>\n",
       "      <td>None</td>\n",
       "      <td>None</td>\n",
       "      <td>None</td>\n",
       "      <td>None</td>\n",
       "      <td>None</td>\n",
       "      <td>None</td>\n",
       "    </tr>\n",
       "    <tr>\n",
       "      <th>2</th>\n",
       "      <td>2021-12-28</td>\n",
       "      <td>Z30149L0</td>\n",
       "      <td>ST4000DM000</td>\n",
       "      <td>4000787030016</td>\n",
       "      <td>1</td>\n",
       "      <td>114</td>\n",
       "      <td>72330272</td>\n",
       "      <td>None</td>\n",
       "      <td>None</td>\n",
       "      <td>92</td>\n",
       "      <td>...</td>\n",
       "      <td>None</td>\n",
       "      <td>None</td>\n",
       "      <td>None</td>\n",
       "      <td>None</td>\n",
       "      <td>None</td>\n",
       "      <td>None</td>\n",
       "      <td>None</td>\n",
       "      <td>None</td>\n",
       "      <td>None</td>\n",
       "      <td>None</td>\n",
       "    </tr>\n",
       "    <tr>\n",
       "      <th>3</th>\n",
       "      <td>2021-12-26</td>\n",
       "      <td>Z302SWBN</td>\n",
       "      <td>ST4000DM000</td>\n",
       "      <td>4000787030016</td>\n",
       "      <td>1</td>\n",
       "      <td>108</td>\n",
       "      <td>16925000</td>\n",
       "      <td>None</td>\n",
       "      <td>None</td>\n",
       "      <td>91</td>\n",
       "      <td>...</td>\n",
       "      <td>None</td>\n",
       "      <td>None</td>\n",
       "      <td>None</td>\n",
       "      <td>None</td>\n",
       "      <td>None</td>\n",
       "      <td>None</td>\n",
       "      <td>None</td>\n",
       "      <td>None</td>\n",
       "      <td>None</td>\n",
       "      <td>None</td>\n",
       "    </tr>\n",
       "    <tr>\n",
       "      <th>4</th>\n",
       "      <td>2021-12-24</td>\n",
       "      <td>Z305K296</td>\n",
       "      <td>ST4000DM000</td>\n",
       "      <td>4000787030016</td>\n",
       "      <td>1</td>\n",
       "      <td>119</td>\n",
       "      <td>218225696</td>\n",
       "      <td>None</td>\n",
       "      <td>None</td>\n",
       "      <td>93</td>\n",
       "      <td>...</td>\n",
       "      <td>None</td>\n",
       "      <td>None</td>\n",
       "      <td>None</td>\n",
       "      <td>None</td>\n",
       "      <td>None</td>\n",
       "      <td>None</td>\n",
       "      <td>None</td>\n",
       "      <td>None</td>\n",
       "      <td>None</td>\n",
       "      <td>None</td>\n",
       "    </tr>\n",
       "  </tbody>\n",
       "</table>\n",
       "<p>5 rows × 179 columns</p>\n",
       "</div>"
      ],
      "text/plain": [
       "        date serial_number        model  capacity_bytes  failure  \\\n",
       "0 2021-12-31      Z304GSQ0  ST4000DM000   4000787030016        1   \n",
       "1 2021-12-30      Z305AQQP  ST4000DM000   4000787030016        1   \n",
       "2 2021-12-28      Z30149L0  ST4000DM000   4000787030016        1   \n",
       "3 2021-12-26      Z302SWBN  ST4000DM000   4000787030016        1   \n",
       "4 2021-12-24      Z305K296  ST4000DM000   4000787030016        1   \n",
       "\n",
       "   smart_1_normalized  smart_1_raw smart_2_normalized smart_2_raw  \\\n",
       "0                 104     12689626               None        None   \n",
       "1                 117    144131312               None        None   \n",
       "2                 114     72330272               None        None   \n",
       "3                 108     16925000               None        None   \n",
       "4                 119    218225696               None        None   \n",
       "\n",
       "   smart_3_normalized  ...  smart_250_normalized  smart_250_raw  \\\n",
       "0                  91  ...                  None           None   \n",
       "1                  91  ...                  None           None   \n",
       "2                  92  ...                  None           None   \n",
       "3                  91  ...                  None           None   \n",
       "4                  93  ...                  None           None   \n",
       "\n",
       "   smart_251_normalized  smart_251_raw  smart_252_normalized  smart_252_raw  \\\n",
       "0                  None           None                  None           None   \n",
       "1                  None           None                  None           None   \n",
       "2                  None           None                  None           None   \n",
       "3                  None           None                  None           None   \n",
       "4                  None           None                  None           None   \n",
       "\n",
       "   smart_254_normalized smart_254_raw smart_255_normalized  smart_255_raw  \n",
       "0                  None          None                 None           None  \n",
       "1                  None          None                 None           None  \n",
       "2                  None          None                 None           None  \n",
       "3                  None          None                 None           None  \n",
       "4                  None          None                 None           None  \n",
       "\n",
       "[5 rows x 179 columns]"
      ]
     },
     "execution_count": 49,
     "metadata": {},
     "output_type": "execute_result"
    }
   ],
   "source": [
    "query_string = \"\"\"SELECT * FROM \"2021\"\n",
    "                WHERE model = 'ST4000DM000' AND failure = '1'\n",
    "                ORDER BY date DESC\n",
    "                LIMIT 250\"\"\"\n",
    "df_failed = pd.read_sql(query_string, db, parse_dates=\"date\")\n",
    "df_failed.head(5)"
   ]
  },
  {
   "cell_type": "markdown",
   "metadata": {},
   "source": [
    "We use those HDDs and pick a snapshot of at a random date between 0 and 30 days before they fail. Those observations will obtain the label `fail_30_days == True` indicating that they will fail in the next 30 days."
   ]
  },
  {
   "cell_type": "code",
   "execution_count": 50,
   "metadata": {},
   "outputs": [
    {
     "name": "stderr",
     "output_type": "stream",
     "text": [
      "250it [00:30,  8.22it/s]\n"
     ]
    },
    {
     "data": {
      "text/plain": [
       "(485, 179)"
      ]
     },
     "execution_count": 50,
     "metadata": {},
     "output_type": "execute_result"
    }
   ],
   "source": [
    "df = df_failed.copy() # Copy dataframe\n",
    "failed_numbers = df.iloc[:,:2]\n",
    "# Loop over all the HDDs in our dataframe\n",
    "for num, date, serial_number in tqdm(failed_numbers.itertuples()):\n",
    "    date = date - pd.Timedelta(np.random.randint(1,30), 'days') # Substract random number of days\n",
    "    # Generate SQL query\n",
    "    query_string = f\"\"\"SELECT * FROM \"2021\" WHERE date = '{date.strftime('%Y-%m-%d')}' AND serial_number = '{serial_number}'\"\"\"\n",
    "    snapshot = pd.read_sql(query_string, db, parse_dates=\"date\")\n",
    "    #snapshot = df.iloc[num,:]\n",
    "    df = df.append(snapshot, ignore_index=True) # Append the snapshot to the dataframe\n",
    "df = df.infer_objects() # Fix column types\n",
    "df.shape"
   ]
  },
  {
   "cell_type": "markdown",
   "metadata": {},
   "source": [
    "Set the target:"
   ]
  },
  {
   "cell_type": "code",
   "execution_count": 51,
   "metadata": {},
   "outputs": [],
   "source": [
    "df[\"fail_30_days\"] = 1"
   ]
  },
  {
   "cell_type": "markdown",
   "metadata": {},
   "source": [
    "## Querying false observations\n",
    "\n",
    "Additionally, we capture 5 snapshots at random times between 600 and 30 days before they break down."
   ]
  },
  {
   "cell_type": "code",
   "execution_count": 53,
   "metadata": {},
   "outputs": [
    {
     "name": "stderr",
     "output_type": "stream",
     "text": [
      "250it [00:31,  7.91it/s]\n",
      "250it [00:31,  7.92it/s]\n",
      "250it [00:31,  7.89it/s]\n",
      "250it [00:31,  7.93it/s]\n",
      "250it [00:31,  7.85it/s]\n"
     ]
    }
   ],
   "source": [
    "for k in range(5): # Repeat 5 times\n",
    "    # Loop over all the HDDs in our dataframe\n",
    "    for num, date, serial_number in tqdm(failed_numbers.itertuples()):\n",
    "        date = date - pd.Timedelta(np.random.randint(31,600), 'days') # Substract random number of days\n",
    "        # Generate SQL query\n",
    "        query_string = f\"\"\"SELECT * FROM \"2021\" WHERE date = '{date.strftime('%Y-%m-%d')}' AND serial_number = '{serial_number}'\"\"\"\n",
    "        snapshot = pd.read_sql(query_string, db, parse_dates=\"date\")\n",
    "        #snapshot = df.iloc[num,:]\n",
    "        df = df.append(snapshot, ignore_index=True) # Append the snapshot to the dataframe\n",
    "#df = pd.read_csv(\"../data/interim/felix.csv\", parse_dates=[\"date\"])\n",
    "df = df.infer_objects() # Fix column types\n",
    "df.shape"
   ]
  },
  {
   "cell_type": "markdown",
   "metadata": {},
   "source": [
    "Setting the target"
   ]
  },
  {
   "cell_type": "code",
   "execution_count": 55,
   "metadata": {},
   "outputs": [],
   "source": [
    "df[\"fail_30_days\"][486:] = 0"
   ]
  },
  {
   "cell_type": "markdown",
   "metadata": {},
   "source": [
    "Now we drop the first 250 rows, corresponding to the snapshots at the failure day."
   ]
  },
  {
   "cell_type": "code",
   "execution_count": 70,
   "metadata": {},
   "outputs": [],
   "source": [
    "#df.to_csv(\"../data/interim/felix.csv\", index=False)\n",
    "df.drop(df.index[:250], axis=0, inplace=True) # Drop first 250 rows\n",
    "df.drop(\"failure\", axis=1, inplace=True) # Drop the old target\n",
    "df.reset_index(drop=True, inplace=True) # Reset index"
   ]
  },
  {
   "cell_type": "markdown",
   "metadata": {},
   "source": [
    "Instead of pulling data at random dates, we could do random sampling in SQL directly:"
   ]
  },
  {
   "cell_type": "code",
   "execution_count": 7,
   "metadata": {},
   "outputs": [],
   "source": [
    "## Random sampling in SQL\n",
    "# SELECT * FROM myTable\n",
    "# WHERE attribute = 'myValue'\n",
    "# ORDER BY random()\n",
    "# LIMIT 1000;"
   ]
  },
  {
   "cell_type": "markdown",
   "metadata": {},
   "source": [
    "## Saving the data"
   ]
  },
  {
   "cell_type": "code",
   "execution_count": 81,
   "metadata": {},
   "outputs": [],
   "source": [
    "df_backup = df.copy()\n",
    "df.to_csv(\"../data/interim/felix.csv\", index=False)"
   ]
  }
 ],
 "metadata": {
  "interpreter": {
   "hash": "154c2bf59eb31e71df54e9263924a6ea5cd0235545ed5cc0de50040e78b9c3e1"
  },
  "kernelspec": {
   "display_name": "Python 3.9.4 ('.venv': venv)",
   "language": "python",
   "name": "python3"
  },
  "language_info": {
   "codemirror_mode": {
    "name": "ipython",
    "version": 3
   },
   "file_extension": ".py",
   "mimetype": "text/x-python",
   "name": "python",
   "nbconvert_exporter": "python",
   "pygments_lexer": "ipython3",
   "version": "3.9.4"
  },
  "orig_nbformat": 4
 },
 "nbformat": 4,
 "nbformat_minor": 2
}
