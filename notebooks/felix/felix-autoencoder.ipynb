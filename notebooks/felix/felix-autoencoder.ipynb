{
 "cells": [
  {
   "cell_type": "markdown",
   "metadata": {},
   "source": [
    "# Guardians of the Memory - Modeling - Felix\n",
    "\n",
    "**Contents**:\n",
    "1. Preprocessing and feature engineering\n",
    "2. Modeling\n",
    "    * 2.1. Defining functions\n",
    "    * 2.2. XGBoost Classifier\n",
    "    * 2.3. GaussianNB\n",
    "    * 2.4. Isolation Forest\n",
    "    * 2.5. Artificial Neural Network\n",
    "    * 2.6. Stacking\n",
    "3. Model export\n",
    "4. Error analysis"
   ]
  },
  {
   "cell_type": "markdown",
   "metadata": {},
   "source": [
    "### Import Libraries"
   ]
  },
  {
   "cell_type": "code",
   "execution_count": 55,
   "metadata": {},
   "outputs": [],
   "source": [
    "import warnings # Turn off warnings\n",
    "warnings.filterwarnings('ignore')\n",
    "\n",
    "import os # Import own functions\n",
    "import sys\n",
    "sys.path.append(\"..\") # Fix folder structure\n",
    "from src.data.hdd_preprocessing import load_preprocess_data, train_test_splitter, calculate_target\n",
    "from src.features.feature_engineering import log_transformer, hdd_preprocessor\n",
    "\n",
    "import pandas as pd # Pandas and Numpy\n",
    "import numpy as np\n",
    "\n",
    "import mlflow # MLFlow for experiment tracking\n",
    "EXPERIMENT_NAME = \"guardians_of_the_memory_felix\"\n",
    "TRACKING_URI = open(\"../.mlflow_uri\").read().strip()\n",
    "\n",
    "import seaborn as sns # Plotting libraries\n",
    "import matplotlib.pyplot as plt\n",
    "plt.style.use('seaborn')\n",
    "\n",
    "# Sklearn for preprocessing and modeling\n",
    "from sklearn.model_selection import GridSearchCV\n",
    "from sklearn.pipeline import Pipeline\n",
    "from sklearn.preprocessing import MinMaxScaler\n",
    "from sklearn.ensemble import IsolationForest, StackingClassifier\n",
    "from xgboost import XGBClassifier\n",
    "from sklearn.naive_bayes import GaussianNB\n",
    "from sklearn.linear_model import LogisticRegression\n",
    "\n",
    "# Sklearn metrics\n",
    "from sklearn.metrics import confusion_matrix, roc_auc_score, recall_score, fbeta_score\n",
    "from sklearn.metrics import make_scorer, precision_recall_curve, mean_squared_error\n",
    "\n",
    "# Tensorflow and Keras\n",
    "import tensorflow as tf\n",
    "from keras.models import Sequential, load_model\n",
    "from keras.layers import Dense, Dropout\n",
    "from keras.metrics import Recall, Precision\n",
    "from keras import optimizers\n",
    "from tensorflow.keras.models import Model\n",
    "from tensorflow.keras.wrappers.scikit_learn import KerasClassifier\n",
    "\n",
    "from mlflow.sklearn import save_model\n",
    "\n",
    "RSEED = 42 # Random seed for repeatability"
   ]
  },
  {
   "cell_type": "markdown",
   "metadata": {},
   "source": [
    "# 1. Preprocessing and feature engineering\n",
    "\n",
    "\n",
    "* We load the file containing the history 2019-2021 of the picked model.\n",
    "* The target is calculated, then the data is preprocessed (dropping columns, dropping NaN rows and duplicate rows)\n",
    "* We train-test split the data to prevent leakage during feature engineering. The data is split according to serial numbers (so all history of one drives ends up in either the train or the test set)\n",
    "* The preprocessor generates the features. Although the first call uses `fit`, nothing is fitted here.\n",
    "* Next we define a pipeline for scaling. We use our custom log_transformer and scale the data using MinMaxScaling."
   ]
  },
  {
   "cell_type": "code",
   "execution_count": 16,
   "metadata": {},
   "outputs": [],
   "source": [
    "repo_path = os.getcwd()+\"/../\" # Path to the parent directory\n",
    "# Loading and preprocessing of the data\n",
    "X, y = load_preprocess_data(days=30, filename=\"ST4000DM000_history_total\", path=repo_path)\n",
    "df_backup = X.copy() # Backup the original data\n",
    "# Train-test split according to serial numbers\n",
    "X_train, X_test, y_train, y_test = train_test_splitter(\n",
    "        X, y, test_size=0.30, random_state=RSEED\n",
    "        )\n",
    "# Feature engineering\n",
    "feat_eng = hdd_preprocessor(days=30, trigger=0.05)\n",
    "X_train = feat_eng.fit_transform(X_train)\n",
    "X_test = feat_eng.transform(X_test)\n",
    "# Defing scaling pipeline\n",
    "scaling_pipe = Pipeline([\n",
    "                ('scaler_log', log_transformer(offset=1)),\n",
    "                ('scaler_minmax ', MinMaxScaler()),\n",
    "                ])"
   ]
  },
  {
   "cell_type": "code",
   "execution_count": 17,
   "metadata": {},
   "outputs": [],
   "source": [
    "X_train_normal = X_train[y_train == 0]\n",
    "y_train_normal = y_train[y_train == 0]\n",
    "X_train_anomalous = X_train[y_train == 1]\n",
    "y_train_anomalous = y_train[y_train == 1]"
   ]
  },
  {
   "cell_type": "code",
   "execution_count": 63,
   "metadata": {},
   "outputs": [],
   "source": [
    "from src.data.preprocessing import countdown, load_drive_stats\n",
    "\n",
    "df_c = load_drive_stats(filename=\"ST4000DM000_history_total\", path=repo_path)\n",
    "days = countdown(df_c).countdown\n",
    "\n",
    "X_train[\"serial_number\"] = df_c.serial_number[X_train.index]\n",
    "X_train[\"countdown\"] = days[X_train.index]\n",
    "X_test[\"serial_number\"] = df_c.serial_number[X_test.index]\n",
    "X_test[\"countdown\"] = days[X_test.index]\n"
   ]
  },
  {
   "cell_type": "code",
   "execution_count": 64,
   "metadata": {},
   "outputs": [],
   "source": [
    "X_train_adj = X_train.pivot(\"serial_number\", \"countdown\", \"smart_999\")\n",
    "X_test_adj = X_test.pivot(\"serial_number\", \"countdown\", \"smart_999\")"
   ]
  },
  {
   "cell_type": "code",
   "execution_count": 65,
   "metadata": {},
   "outputs": [],
   "source": [
    "X_train_normal = X_train_adj.iloc[:,30:]\n",
    "X_test_normal = X_test_adj.iloc[:,30:]\n",
    "y_train_normal = np.zeros((1,len(X_train_normal)))\n",
    "X_train_anomalous = X_train_adj.iloc[:,:30]\n",
    "#y_train_anomalous = y_train[y_train == 1]"
   ]
  },
  {
   "cell_type": "code",
   "execution_count": 40,
   "metadata": {},
   "outputs": [
    {
     "data": {
      "image/png": "[encoded data removed]",
      "text/plain": [
       "<Figure size 576x396 with 1 Axes>"
      ]
     },
     "metadata": {},
     "output_type": "display_data"
    }
   ],
   "source": [
    "plt.grid()\n",
    "plt.plot(np.arange(770), X_train_normal.iloc[0,:])\n",
    "plt.title(\"A Normal Drive\")\n",
    "plt.show()"
   ]
  },
  {
   "cell_type": "code",
   "execution_count": 53,
   "metadata": {},
   "outputs": [
    {
     "data": {
      "image/png": "[encoded data removed]",
      "text/plain": [
       "<Figure size 576x396 with 1 Axes>"
      ]
     },
     "metadata": {},
     "output_type": "display_data"
    }
   ],
   "source": [
    "plt.grid()\n",
    "plt.plot(np.arange(30), X_train_anomalous.iloc[29,:])\n",
    "plt.title(\"An Anomalous Drive\")\n",
    "plt.show()"
   ]
  },
  {
   "cell_type": "code",
   "execution_count": 69,
   "metadata": {},
   "outputs": [],
   "source": [
    "import matplotlib.pyplot as plt\n",
    "import numpy as np\n",
    "import pandas as pd\n",
    "import tensorflow as tf\n",
    "\n",
    "from sklearn.metrics import accuracy_score, precision_score, recall_score\n",
    "from sklearn.model_selection import train_test_split\n",
    "from tensorflow.keras import layers, losses\n",
    "from tensorflow.keras.datasets import fashion_mnist\n",
    "from tensorflow.keras.models import Model\n"
   ]
  },
  {
   "cell_type": "code",
   "execution_count": 75,
   "metadata": {},
   "outputs": [
    {
     "name": "stdout",
     "output_type": "stream",
     "text": [
      "Model: \"anomaly_detector_7\"\n",
      "_________________________________________________________________\n",
      " Layer (type)                Output Shape              Param #   \n",
      "=================================================================\n",
      " sequential_12 (Sequential)  (1, 8)                    25336     \n",
      "                                                                 \n",
      " sequential_13 (Sequential)  (1, 770)                  26098     \n",
      "                                                                 \n",
      "=================================================================\n",
      "Total params: 51,434\n",
      "Trainable params: 51,434\n",
      "Non-trainable params: 0\n",
      "_________________________________________________________________\n"
     ]
    }
   ],
   "source": [
    "class AnomalyDetector(Model):\n",
    "  def __init__(self):\n",
    "    super(AnomalyDetector, self).__init__()\n",
    "    self.encoder = tf.keras.Sequential([\n",
    "      layers.Dense(32, activation=\"relu\"),\n",
    "      layers.Dense(16, activation=\"relu\"),\n",
    "      layers.Dense(8, activation=\"relu\")])\n",
    "\n",
    "    self.decoder = tf.keras.Sequential([\n",
    "      layers.Dense(16, activation=\"relu\"),\n",
    "      layers.Dense(32, activation=\"relu\"),\n",
    "      layers.Dense(770, activation=\"sigmoid\")])\n",
    "\n",
    "  def call(self, x):\n",
    "    encoded = self.encoder(x)\n",
    "    decoded = self.decoder(encoded)\n",
    "    return decoded\n",
    "\n",
    "autoencoder = AnomalyDetector()\n",
    "autoencoder.compile(optimizer='adam', loss='mae')\n",
    "autoencoder.build(input_shape=(1,770))\n",
    "autoencoder.summary()"
   ]
  },
  {
   "cell_type": "code",
   "execution_count": 67,
   "metadata": {},
   "outputs": [
    {
     "data": {
      "text/plain": [
       "((424, 770), (181, 770))"
      ]
     },
     "execution_count": 67,
     "metadata": {},
     "output_type": "execute_result"
    }
   ],
   "source": [
    "X_train_normal.shape, X_test_normal.shape"
   ]
  },
  {
   "cell_type": "code",
   "execution_count": 76,
   "metadata": {},
   "outputs": [
    {
     "name": "stdout",
     "output_type": "stream",
     "text": [
      "Epoch 1/20\n",
      " 8/11 [====================>.........] - ETA: 0s - loss: nan  "
     ]
    },
    {
     "name": "stderr",
     "output_type": "stream",
     "text": [
      "2022-03-28 12:09:34.207212: I tensorflow/core/grappler/optimizers/custom_graph_optimizer_registry.cc:113] Plugin optimizer for device_type GPU is enabled.\n"
     ]
    },
    {
     "name": "stdout",
     "output_type": "stream",
     "text": [
      "11/11 [==============================] - 7s 32ms/step - loss: nan - val_loss: nan\n",
      "Epoch 2/20\n",
      "11/11 [==============================] - 0s 10ms/step - loss: nan - val_loss: nan\n",
      "Epoch 3/20\n",
      " 1/11 [=>............................] - ETA: 0s - loss: nan"
     ]
    },
    {
     "name": "stderr",
     "output_type": "stream",
     "text": [
      "2022-03-28 12:09:34.579872: I tensorflow/core/grappler/optimizers/custom_graph_optimizer_registry.cc:113] Plugin optimizer for device_type GPU is enabled.\n"
     ]
    },
    {
     "name": "stdout",
     "output_type": "stream",
     "text": [
      "11/11 [==============================] - 0s 12ms/step - loss: nan - val_loss: nan\n",
      "Epoch 4/20\n",
      "11/11 [==============================] - 0s 11ms/step - loss: nan - val_loss: nan\n",
      "Epoch 5/20\n",
      "11/11 [==============================] - 0s 10ms/step - loss: nan - val_loss: nan\n",
      "Epoch 6/20\n",
      "11/11 [==============================] - 0s 10ms/step - loss: nan - val_loss: nan\n",
      "Epoch 7/20\n",
      "11/11 [==============================] - 0s 10ms/step - loss: nan - val_loss: nan\n",
      "Epoch 8/20\n",
      "11/11 [==============================] - 0s 8ms/step - loss: nan - val_loss: nan\n",
      "Epoch 9/20\n",
      "11/11 [==============================] - 0s 10ms/step - loss: nan - val_loss: nan\n",
      "Epoch 10/20\n",
      "11/11 [==============================] - 0s 11ms/step - loss: nan - val_loss: nan\n",
      "Epoch 11/20\n",
      "11/11 [==============================] - 0s 9ms/step - loss: nan - val_loss: nan\n",
      "Epoch 12/20\n",
      "11/11 [==============================] - 0s 10ms/step - loss: nan - val_loss: nan\n",
      "Epoch 13/20\n",
      "11/11 [==============================] - 0s 10ms/step - loss: nan - val_loss: nan\n",
      "Epoch 14/20\n",
      "11/11 [==============================] - 0s 15ms/step - loss: nan - val_loss: nan\n",
      "Epoch 15/20\n",
      "11/11 [==============================] - 0s 11ms/step - loss: nan - val_loss: nan\n",
      "Epoch 16/20\n",
      "11/11 [==============================] - 0s 12ms/step - loss: nan - val_loss: nan\n",
      "Epoch 17/20\n",
      "11/11 [==============================] - 0s 12ms/step - loss: nan - val_loss: nan\n",
      "Epoch 18/20\n",
      "11/11 [==============================] - 0s 10ms/step - loss: nan - val_loss: nan\n",
      "Epoch 19/20\n",
      "11/11 [==============================] - 0s 11ms/step - loss: nan - val_loss: nan\n",
      "Epoch 20/20\n",
      "11/11 [==============================] - 0s 10ms/step - loss: nan - val_loss: nan\n"
     ]
    }
   ],
   "source": [
    "history = autoencoder.fit(X_train_normal, X_train_normal, \n",
    "          epochs=20, \n",
    "          batch_size=40,\n",
    "          validation_data=(X_test_normal, X_test_normal),\n",
    "          shuffle=True)"
   ]
  }
 ],
 "metadata": {
  "interpreter": {
   "hash": "154c2bf59eb31e71df54e9263924a6ea5cd0235545ed5cc0de50040e78b9c3e1"
  },
  "kernelspec": {
   "display_name": "Python 3.9.4 ('.venv': venv)",
   "language": "python",
   "name": "python3"
  },
  "language_info": {
   "codemirror_mode": {
    "name": "ipython",
    "version": 3
   },
   "file_extension": ".py",
   "mimetype": "text/x-python",
   "name": "python",
   "nbconvert_exporter": "python",
   "pygments_lexer": "ipython3",
   "version": "3.9.4"
  },
  "orig_nbformat": 4
 },
 "nbformat": 4,
 "nbformat_minor": 2
}
